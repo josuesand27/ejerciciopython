{
 "cells": [
  {
   "cell_type": "markdown",
   "id": "859a5705",
   "metadata": {},
   "source": [
    "# Hacking The Fender\n",
    "\n",
    "### The Fender, un notorio pirata informático y villano general de la gente, ha comprometido varias contraseñas de alto secreto, incluida la suya. Su misión, es triple si decide aceptarla. Debe adquirir acceso a los sistemas de  The Fender, debe actualizar su archivo \"passwords.txt\" para codificar los datos secretos. Lo último que debe hacer es agregar la firma de Slash Null, un pirata informático diferente cuyas acciones nefastas podrían detenerse muy convenientemente si The Fender considera a Slash Null una amenaza.\n",
    "\n",
    "### Utilice su conocimiento sobre el trabajo con archivos de Python para recuperar, manipular, ocultar y crear datos en su búsqueda de justicia. Trabaje con archivos CSV y otros archivos de texto en esta exploración de la fuerza de la programación de archivos de Python.\n",
    "\n",
    "\n",
    "\n",
    "## Reading In The Passwords\n",
    "\n",
    "\n",
    "1. ¿Está ahí? Hemos abierto un enlace de comunicaciones a la computadora secreta de The Fender. Necesitamos que escriba un programa que lea los nombres de usuario y contraseñas comprometidos que se almacenan en un archivo llamado \"passwords.csv\".\n",
    "\n",
    "    Primero importe el módulo CSV, ya que lo necesitaremos para analizar los datos.\n",
    "    \n",
    "    \n",
    "2. Necesitamos crear una lista de usuarios cuyas contraseñas se han visto comprometidas, crear una nueva lista y guardarla en la variable compromised_users.\n",
    "\n",
    "\n",
    "3. A continuación, necesitaremos que abra el archivo en sí. Guárdelo en un objeto de archivo llamado password_file.\n",
    "\n",
    "\n",
    "4. Pase el password_file portaobjetos a nuestro lector de CSV para analizarlo. Guarde el objeto analizado csv.DictReader como password_csv.\n",
    "\n",
    "\n",
    "5. Ahora queremos iterar a través de cada una de las líneas en el CSV.\n",
    "\n",
    "    Cree un bucle for y guarde cada fila del CSV en la variable temporal password_row.\n",
    "    \n",
    "    \n",
    "6. Dentro de su forciclo, imprima password_row['Username']. Este es el nombre de usuario de la persona cuya contraseña fue comprometida.\n",
    "\n",
    "    Ejecute su código, ¿ve una lista de nombres de usuario?\n",
    "    \n",
    "    \n",
    "7. Eliminar la print declaración. Queremos agregar cada nombre de usuario a la lista de compromised_users. Use el .append() método de la lista para agregar el nombre de usuario compromised_users en lugar de imprimirlos.\n",
    "\n",
    "\n",
    "8. Salga de su withbloque para \"passwords.csv\". Tenemos todos los datos que necesitamos de ese archivo.\n",
    "\n",
    "    Inicie un nuevo withbloque, abriendo un archivo llamado compromised_users.txt. Abra este archivo en modo de escritura, guardando el objeto de archivo como compromised_user_file.\n",
    "    \n",
    "    \n",
    "9. Dentro del nuevo bloque administrado por contexto abierto por la with declaración, comience un nuevo for ciclo.\n",
    "\n",
    "    Iterar sobre cada uno de sus compromised_users.\n",
    "    \n",
    "    \n",
    "10. Escriba el nombre de usuario de cada uno compromised_user en .compromised_users compromised_user_file\n",
    "\n",
    "\n",
    "11. Sal de ese with bloque. ¡Lo estás haciendo muy bien hasta ahora! Tenemos los datos que necesitamos emplear como seguro contra The Fender.\n",
    "\n",
    "\n",
    "## Notifying the Boss\n",
    "\n",
    "\n",
    "12. Su jefe necesita saber que logró recuperar los datos comprometidos. Tendremos que enviarle un mensaje codificado por Internet. Usemos JSON para hacer eso.\n",
    "\n",
    "    Primero necesitaremos importar el json módulo.\n",
    "    \n",
    "    \n",
    "13. Abra un nuevo archivo JSON en modo de escritura llamado boss_message.json. Guarde el objeto de archivo en la variable boss_message.\n",
    "\n",
    "\n",
    "14. Cree un objeto de diccionario de Python dentro de su with declaración que transmita un mensaje de jefe. Llama a esto boss_message_dict.\n",
    "\n",
    "    Dale una clave \"recipient\" con un valor \"The Boss\".\n",
    "\n",
    "    También dele un clave \"message\" con el valor \"Mission Success\".\n",
    "    \n",
    "    \n",
    "15. Escribir boss_message_dict para boss_message usar json.dump().\n",
    "\n",
    "\n",
    "## Scrambling the Password\n",
    "\n",
    "\n",
    "16. Ahora que hemos recuperado de forma segura a los usuarios comprometidos, queremos eliminar el \"passwords.csv\" archivo por completo.\n",
    "\n",
    "    Cree un nuevo with bloque y ábralo \"new_passwords.csv\" en modo escritura. Guarde el objeto de archivo en una variable llamada new_passwords_obj.\n",
    "    \n",
    "    \n",
    "17. Enemigo del pueblo, Slash Nulles quien queremos hacer pensar a The Fender que estuvo detrás de este ataque. Tiene una firma, cada vez que piratea a alguien, agrega esta firma a uno de los archivos que toca. Aquí está la firma en slash_null_sign:\n",
    "\n",
    "\n",
    "18. Escribe slash_null_sign a new_passwords_obj. ¡Ahora tenemos el archivo para reemplazarlo passwords.csv!\n",
    "\n",
    "\n",
    "19. ¡Qué increíble éxito! Nos encargaremos de mover el nuevo archivo de contraseñas sobre el anterior en caso de que quiera practicar la piratería The Fenderen el futuro.\n",
    "\n",
    "    Gracias por su servicio, programador."
   ]
  },
  {
   "cell_type": "code",
   "execution_count": 1,
   "id": "62844c06",
   "metadata": {},
   "outputs": [],
   "source": [
    "slash_null_sign = \"\"\"\n",
    " _  _     ___   __  ____             \n",
    "/ )( \\   / __) /  \\(_  _)            \n",
    ") \\/ (  ( (_ \\(  O ) )(              \n",
    "\\____/   \\___/ \\__/ (__)             \n",
    " _  _   __    ___  __ _  ____  ____  \n",
    "/ )( \\ / _\\  / __)(  / )(  __)(    \\ \n",
    ") __ (/    \\( (__  )  (  ) _)  ) D ( \n",
    "\\_)(_/\\_/\\_/ \\___)(__\\_)(____)(____/ \n",
    "        ____  __     __   ____  _  _ \n",
    " ___   / ___)(  )   / _\\ / ___)/ )( \\\n",
    "(___)  \\___ \\/ (_/\\/    \\\\___ \\) __ (\n",
    "       (____/\\____/\\_/\\_/(____/\\_)(_/\n",
    " __ _  _  _  __    __                \n",
    "(  ( \\/ )( \\(  )  (  )               \n",
    "/    /) \\/ (/ (_/\\/ (_/\\             \n",
    "\\_)__)\\____/\\____/\\____/ \"\"\""
   ]
  },
  {
   "cell_type": "code",
   "execution_count": 2,
   "id": "2d0bca43",
   "metadata": {},
   "outputs": [],
   "source": [
    "#1\n",
    "import csv"
   ]
  },
  {
   "cell_type": "code",
   "execution_count": 3,
   "id": "5a0db812",
   "metadata": {},
   "outputs": [],
   "source": [
    "#2\n",
    "compromised_users=[]"
   ]
  },
  {
   "cell_type": "code",
   "execution_count": 4,
   "id": "f28b93e2",
   "metadata": {},
   "outputs": [],
   "source": [
    "#3 4 5 6 7\n",
    "compromised_users=[]\n",
    "with open (\"passwords.csv\") as password_file:\n",
    "    password_csv= csv.DictReader(password_file)\n",
    "    for password_row in password_csv:\n",
    "        compromised_users.append(password_row[\"Username\"])\n",
    "    \n",
    "    "
   ]
  },
  {
   "cell_type": "code",
   "execution_count": 5,
   "id": "035b5f89",
   "metadata": {},
   "outputs": [
    {
     "name": "stdout",
     "output_type": "stream",
     "text": [
      "['jean49', 'haydenashley', 'michaelastephens', 'denisephillips', 'andrew24', 'kaylaabbott', 'tmartinez', 'mholden', 'randygilbert', 'watsonlouis', 'mdavis', 'patrickprice', 'kgriffith', 'hannasarah', 'xaviermartin', 'hrodriguez', 'erodriguez', 'danielleclark', 'timothy26', 'elizabeth19']\n"
     ]
    }
   ],
   "source": [
    "print(compromised_users)"
   ]
  },
  {
   "cell_type": "code",
   "execution_count": 6,
   "id": "7c00309e",
   "metadata": {},
   "outputs": [],
   "source": [
    "#8 9 10 11\n",
    "with open (\"compromised_users.txt\" ,\"w\" )as compromised_user_file :\n",
    "    for  compromised_user in compromised_users:\n",
    "        compromised_user_file.write(compromised_user + \" \")"
   ]
  },
  {
   "cell_type": "code",
   "execution_count": 7,
   "id": "4053e8c3",
   "metadata": {},
   "outputs": [],
   "source": [
    "#12\n",
    "import json"
   ]
  },
  {
   "cell_type": "code",
   "execution_count": 8,
   "id": "58048802",
   "metadata": {},
   "outputs": [],
   "source": [
    "#13 14 15\n",
    "with open (\"boss_message.json\" , \"w\") as boss_message:\n",
    "    boss_message_dict = {\"recipient\":\"The Boss\",\"message\":\"Mission Success\"}\n",
    "    json.dump( boss_message_dict,boss_message)\n",
    "    "
   ]
  },
  {
   "cell_type": "code",
   "execution_count": 9,
   "id": "33fa75cd",
   "metadata": {},
   "outputs": [],
   "source": [
    "#16 17 18 19\n",
    "with open (\"new_passwords.csv\", \"w\") as new_passwords_obj:\n",
    "    new_passwords_obj.write(slash_null_sign)"
   ]
  },
  {
   "cell_type": "code",
   "execution_count": null,
   "id": "ded35a1b",
   "metadata": {},
   "outputs": [],
   "source": []
  }
 ],
 "metadata": {
  "kernelspec": {
   "display_name": "Python 3 (ipykernel)",
   "language": "python",
   "name": "python3"
  },
  "language_info": {
   "codemirror_mode": {
    "name": "ipython",
    "version": 3
   },
   "file_extension": ".py",
   "mimetype": "text/x-python",
   "name": "python",
   "nbconvert_exporter": "python",
   "pygments_lexer": "ipython3",
   "version": "3.11.1"
  }
 },
 "nbformat": 4,
 "nbformat_minor": 5
}

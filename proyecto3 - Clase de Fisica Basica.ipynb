{
 "cells": [
  {
   "cell_type": "markdown",
   "id": "4a97312b",
   "metadata": {},
   "source": [
    "# Preparándose para la clase de física\n",
    "\n",
    "### Eres un profesor de física que se prepara para el próximo semestre. Desea proporcionar a sus alumnos algunas funciones que les ayudarán a calcular algunas propiedades físicas fundamentales.\n",
    "\n",
    "\n",
    "## Turn up the Temperature\n",
    "\n",
    "\n",
    "1. Escriba una función llamada f_to_c que tome como entrada f_temp, una temperatura en Fahrenheit, y la convierta a c_temp, esa temperatura en Celsius.\n",
    "\n",
    "    A continuación, debe volver c_temp.\n",
    "\n",
    "    La ecuación que debes usar es:\n",
    "\n",
    "    Temp (C) = (Temp (F) - 32) * 5/9\n",
    "\n",
    "\n",
    "2. Probemos tu función con un valor de 100 Fahrenheit.\n",
    "\n",
    "    Defina una variable f100_in_celsius y establézcala igual al valor de f_to_c con 100 como entrada.\n",
    "    \n",
    "    \n",
    "3. Escriba una función llamada c_to_f que tome como entrada c_temp, una temperatura en Celsius, y la convierta a f_temp, esa temperatura en Fahrenheit.\n",
    "\n",
    "    A continuación, debe volver f_temp.\n",
    "\n",
    "    La ecuación que debes usar es:\n",
    "\n",
    "    Temp (F) = Temp (C) * (9/5) + 32\n",
    "    \n",
    "\n",
    "4. Probemos tu función con un valor de 0 Celsius.\n",
    "\n",
    "    Defina una variable c0_in_fahrenheit y establézcala igual al valor de c_to_f con 0 como entrada.\n",
    "    \n",
    "    \n",
    "## Use the Force\n",
    "\n",
    "\n",
    "5. Defina una función llamada get_force que tome mass y acceleration. Debería volver mass multiplicado por acceleration.\n",
    "\n",
    "\n",
    "6. Pruebe get_force llamándolo con las variables train_massy train_acceleration.\n",
    "\n",
    "    Guarde el resultado en una variable llamada train_forcee imprímalo.\n",
    "    \n",
    "    \n",
    "7. Imprima la cadena \"El tren GE suministra X Newtons de fuerza\", X reemplazada por train_force.\n",
    "\n",
    "\n",
    "8. Defina una función llamada get_energy que tome mass y c.\n",
    "\n",
    "    c es una constante que generalmente se establece en la velocidad de la luz, que es aproximadamente 3 x 10 ^ 8. Establecido cpara tener un valor predeterminado de 3*10**8.\n",
    "\n",
    "    get_energy debe regresar mass multiplicado por c cuadrado.\n",
    "    \n",
    "    \n",
    "9. Pruébelo get_energy usándolo en bomb_mass, con el valor predeterminado de c. Guarde el resultado en una variable llamada bomb_energy. \n",
    "\n",
    "\n",
    "10. Imprima la cadena \"Una bomba de 1 kg suministra X julios\", Xreemplazada por bomb_energy.\n",
    "\n",
    "\n",
    "## Do the Work\n",
    "\n",
    "11. Defina una función final llamada get_workque admita mass, accelerationy distance.\n",
    "\n",
    "    El trabajo se define como la fuerza multiplicada por la distancia. Primero, obtenga el forceuso get_forcede , luego multiplíquelo por distance. Devuelve el resultado.\n",
    "    \n",
    "    \n",
    "12. Pruébelo get_work usándolo en train_mass, train_acceleration y train_distance. Guarde el resultado en una variable llamada train_work.\n",
    "\n",
    "\n",
    "13. Imprime la cadena \"The GE train does X Joules of work over Y meters.\", con X reemplazado por train_work y Y reemplazado con train_distance."
   ]
  },
  {
   "cell_type": "code",
   "execution_count": 57,
   "id": "c5fb36e7",
   "metadata": {},
   "outputs": [],
   "source": [
    "# Uncomment this when you reach the \"Use the Force\" section\n",
    "# train_mass = 22680\n",
    "# train_acceleration = 10\n",
    "# train_distance = 100\n",
    "# bomb_mass = 1\n",
    "\n",
    "\n",
    "# Write your code below: \n"
   ]
  },
  {
   "cell_type": "code",
   "execution_count": 58,
   "id": "c3f877ac",
   "metadata": {},
   "outputs": [],
   "source": [
    "#1\n",
    "def f_to_c(f_temp):\n",
    "    c_temp= (f_temp-32)*5/9\n",
    "    print(c_temp)"
   ]
  },
  {
   "cell_type": "code",
   "execution_count": 59,
   "id": "ecf3ae6b",
   "metadata": {},
   "outputs": [
    {
     "name": "stdout",
     "output_type": "stream",
     "text": [
      "37.77777777777778\n"
     ]
    }
   ],
   "source": [
    "#2\n",
    "f100_in_celsius= f_to_c(100)"
   ]
  },
  {
   "cell_type": "code",
   "execution_count": 60,
   "id": "4109462b",
   "metadata": {},
   "outputs": [],
   "source": [
    "#3\n",
    "def c_to_f(c_temp):\n",
    "    f_temp=(c_temp * (9/5) + 32)\n",
    "    print(f_temp)"
   ]
  },
  {
   "cell_type": "code",
   "execution_count": 61,
   "id": "69cdc224",
   "metadata": {},
   "outputs": [
    {
     "name": "stdout",
     "output_type": "stream",
     "text": [
      "32.0\n"
     ]
    }
   ],
   "source": [
    "#4\n",
    "c0_in_fahrenheit=c_to_f(0)"
   ]
  },
  {
   "cell_type": "code",
   "execution_count": 62,
   "id": "bc95ab26",
   "metadata": {},
   "outputs": [],
   "source": [
    "#5\n",
    "def get_force(mass,acceleration):\n",
    "    return (mass*acceleration)"
   ]
  },
  {
   "cell_type": "code",
   "execution_count": 63,
   "id": "e805826f",
   "metadata": {},
   "outputs": [
    {
     "name": "stdout",
     "output_type": "stream",
     "text": [
      "226800\n"
     ]
    }
   ],
   "source": [
    "#6\n",
    "train_force=get_force(22680,10)\n",
    "print(train_force)"
   ]
  },
  {
   "cell_type": "code",
   "execution_count": 64,
   "id": "5c66d26e",
   "metadata": {},
   "outputs": [
    {
     "name": "stdout",
     "output_type": "stream",
     "text": [
      "El tren GE suministra 226800 Newtons de fuerza\n"
     ]
    }
   ],
   "source": [
    "#7\n",
    "print(\"El tren GE suministra 226800 Newtons de fuerza\")"
   ]
  },
  {
   "cell_type": "code",
   "execution_count": 65,
   "id": "2566ff56",
   "metadata": {},
   "outputs": [],
   "source": [
    "#8\n",
    "def get_energyint(mass,c):\n",
    "     return mass*(c**2)"
   ]
  },
  {
   "cell_type": "code",
   "execution_count": null,
   "id": "f3123f0d",
   "metadata": {},
   "outputs": [],
   "source": [
    "\n",
    "#9\n",
    "\n",
    "\n",
    "bomb_energy=get_energy(1,2480)\n",
    "print((bomb_energy))\n",
    "\n"
   ]
  },
  {
   "cell_type": "code",
   "execution_count": 67,
   "id": "89aa46fe",
   "metadata": {},
   "outputs": [
    {
     "name": "stdout",
     "output_type": "stream",
     "text": [
      "Una bomba de 1 kg suministra 6150400  julios\n"
     ]
    }
   ],
   "source": [
    "#10\n",
    "print(\"Una bomba de 1 kg suministra 6150400  julios\")"
   ]
  },
  {
   "cell_type": "code",
   "execution_count": 68,
   "id": "a1793bfe",
   "metadata": {},
   "outputs": [],
   "source": [
    "#11\n",
    "def get_work(get_force,distance):\n",
    "     return train_force * distance"
   ]
  },
  {
   "cell_type": "code",
   "execution_count": 69,
   "id": "c6000fa4",
   "metadata": {},
   "outputs": [
    {
     "name": "stdout",
     "output_type": "stream",
     "text": [
      "22680000\n"
     ]
    }
   ],
   "source": [
    "#12\n",
    "train_work=get_work(1,100)\n",
    "print(train_work)"
   ]
  },
  {
   "cell_type": "code",
   "execution_count": 70,
   "id": "2487f034",
   "metadata": {},
   "outputs": [
    {
     "name": "stdout",
     "output_type": "stream",
     "text": [
      "The GE train does 22680000 Joules of work over 100 meters.\n"
     ]
    }
   ],
   "source": [
    "#13\n",
    "print( \"The GE train does 22680000 Joules of work over 100 meters.\")"
   ]
  },
  {
   "cell_type": "code",
   "execution_count": null,
   "id": "f0fddb62",
   "metadata": {},
   "outputs": [],
   "source": []
  },
  {
   "cell_type": "code",
   "execution_count": null,
   "id": "7849a310",
   "metadata": {},
   "outputs": [],
   "source": []
  }
 ],
 "metadata": {
  "kernelspec": {
   "display_name": "Python 3 (ipykernel)",
   "language": "python",
   "name": "python3"
  },
  "language_info": {
   "codemirror_mode": {
    "name": "ipython",
    "version": 3
   },
   "file_extension": ".py",
   "mimetype": "text/x-python",
   "name": "python",
   "nbconvert_exporter": "python",
   "pygments_lexer": "ipython3",
   "version": "3.11.1"
  }
 },
 "nbformat": 4,
 "nbformat_minor": 5
}

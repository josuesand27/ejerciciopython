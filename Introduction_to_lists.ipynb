{
 "cells": [
  {
   "cell_type": "markdown",
   "id": "a349ca65",
   "metadata": {},
   "source": [
    "# PRIMER EJERCICIO: \n",
    "##  -- What is a list? --\n",
    "\n",
    "#### Intructions: \n",
    "\n",
    "- La lista llamada Ages tiene las edades de las siguientes personas:\n",
    "\n",
    "    - Alex ---> 21\n",
    "    - Ramon ---> 30\n",
    "    - Chabela ---> 18\n",
    "    - Ramiro ---> 29\n",
    "    \n",
    "    \n",
    "- Agrega la edad de Lucia a la lista, quien tiene una edad de 38 years.\n",
    "\n",
    "\n",
    "- Elimina el # de la variable broken_heights, luego ejecuta la celda, y arregla el bug."
   ]
  },
  {
   "cell_type": "code",
   "execution_count": 2,
   "id": "82863630",
   "metadata": {},
   "outputs": [],
   "source": [
    "ages = [21, 30, 18, 29, 38]\n",
    "\n",
    "broken_list = [65, 71, 59,\n",
    "               62]"
   ]
  },
  {
   "cell_type": "markdown",
   "id": "b75c7839",
   "metadata": {},
   "source": [
    "### Instructions:\n",
    "\n",
    "- Crea una lista llamada names, que contenga los nombres de las personas que mencionamos en el ejercicio de arriba.\n",
    "\n",
    "\n",
    "- Y luego crea una lista llamada all_data que contenga ambas listas en ella, \n",
    "\n",
    "*Recuerda que el orden tiene que ser el mismo en ambas lista* \n"
   ]
  },
  {
   "cell_type": "code",
   "execution_count": 9,
   "id": "459d0049",
   "metadata": {},
   "outputs": [
    {
     "name": "stdout",
     "output_type": "stream",
     "text": [
      "[21, 30, 18, 29, 38]\n"
     ]
    }
   ],
   "source": [
    "#Crea names aqui abaj:\n",
    "name_list=[\"Alex\", \"Ramon\", \"Chabela\", \"Ramiro\" ]\n",
    "\n",
    "\n",
    "all_data=[ages,name_list ]\n",
    "\n",
    "print(ages)"
   ]
  },
  {
   "cell_type": "markdown",
   "id": "39284636",
   "metadata": {},
   "source": [
    "# SEGUNDO EJERCICIO: \n",
    "##  --  Append --"
   ]
  },
  {
   "cell_type": "code",
   "execution_count": 10,
   "id": "68b8776c",
   "metadata": {},
   "outputs": [
    {
     "name": "stdout",
     "output_type": "stream",
     "text": [
      "[1, 2, 3, 4]\n",
      "[1, 2, 3, 4, 5]\n",
      "[1, 3, 4, 5]\n"
     ]
    }
   ],
   "source": [
    "example_list = [1, 2, 3, 4]\n",
    "print(example_list)\n",
    "\n",
    "#Using Append\n",
    "example_list.append(5)\n",
    "print(example_list)\n"
   ]
  },
  {
   "cell_type": "markdown",
   "id": "4602c265",
   "metadata": {},
   "source": [
    "### Instructions:\n",
    "\n",
    "- Utilizando las listas antes creadas, agrega a Rodrigo - edad 21, utilizando la funcion append() a sus respectivas listas names, ages y actualiza la lista all_data para que contenga tanto el nombre como la edad.\n",
    "\n",
    "\n",
    "- Imprime all_data"
   ]
  },
  {
   "cell_type": "code",
   "execution_count": 11,
   "id": "4a4b014f",
   "metadata": {},
   "outputs": [
    {
     "name": "stdout",
     "output_type": "stream",
     "text": [
      "[[21, 30, 18, 29, 38, 21], ['Alex', 'Ramon', 'Chabela', 'Ramiro', 'rodrigo']]\n"
     ]
    }
   ],
   "source": [
    "name_list.append (\"rodrigo\")\n",
    "ages.append(21)\n",
    "print(all_data)\n",
    "#using append\n",
    "\n"
   ]
  },
  {
   "cell_type": "markdown",
   "id": "a184d47f",
   "metadata": {},
   "source": [
    "# TERCER EJERCICIO: \n",
    "##  --  Growing a List: Plus(+) --"
   ]
  },
  {
   "cell_type": "markdown",
   "id": "31e1f354",
   "metadata": {},
   "source": [
    "### Intructions:\n",
    "\n",
    "- Crea una lista llamada new_people y agregale los siguientes valores \"Gonzalo\", \"Camilo\", \"Glam\"\n",
    "\n",
    "- Usando += or +, agrega la lista new_people a names\n",
    "\n",
    "- Y de la misma forma como el punto anterior agrega las siguientes edades a ages: 30, 23, 18"
   ]
  },
  {
   "cell_type": "code",
   "execution_count": 12,
   "id": "9888c90d",
   "metadata": {},
   "outputs": [
    {
     "name": "stdout",
     "output_type": "stream",
     "text": [
      "[[21, 30, 18, 29, 38, 21, 30, 23, 18], ['Alex', 'Ramon', 'Chabela', 'Ramiro', 'rodrigo', 'Gonzales', 'Camilo', 'Glam']]\n"
     ]
    }
   ],
   "source": [
    "new_people= [\"Gonzales\", \"Camilo\", \"Glam\" ]\n",
    "\n",
    "name_list += new_people \n",
    "ages+= [30, 23, 18]\n",
    "\n",
    "print(all_data)\n",
    "\n",
    "\n"
   ]
  },
  {
   "cell_type": "markdown",
   "id": "f77404d3",
   "metadata": {},
   "source": [
    "# CUARTO EJERCICIO: \n",
    "##  --  Accessing List Elements --"
   ]
  },
  {
   "cell_type": "markdown",
   "id": "96448a49",
   "metadata": {},
   "source": [
    "### Instructions:\n",
    "\n",
    "- Crea una lista llamada employees con los siguientes elementos: \"Michel\", \"Dwight\", \"Jim\", \"Pam\", \"Ryan\", \"Andy\", \"Robert\", \"Michael\", \"Ryan\"\n",
    "\n",
    "- Crea una variable -- employee_four -- y asignale el empleado numero 4 de la lista\n",
    "\n",
    "- Imprime la siguiente linea de codigo ---> print(employees[10])\n",
    "    - What happens? and Why?\n",
    "    \n",
    "- Arregla la linea de codigo e imprime un nombre de la lista."
   ]
  },
  {
   "cell_type": "code",
   "execution_count": 15,
   "id": "43098f14",
   "metadata": {},
   "outputs": [
    {
     "name": "stdout",
     "output_type": "stream",
     "text": [
      "Ryan\n",
      "Pam\n"
     ]
    }
   ],
   "source": [
    "employees= [\"Michel\", \"Dwight\", \"Jim\", \"Pam\", \"Ryan\", \"Andy\", \"Robert\", \"Michael\", \"Ryan\"]\n",
    "\n",
    "employee_four=employees[3]\n",
    "\n",
    "print(employees[4])\n",
    "print(employee_four)\n",
    "\n"
   ]
  },
  {
   "cell_type": "markdown",
   "id": "ca70f2f6",
   "metadata": {},
   "source": [
    "### Instructions:\n",
    "\n",
    "\n",
    "- imprime el ultimo nombre de la lista usando negative index.\n",
    "\n",
    "- crea una variable llamada -- employee_3 -- y asignale el empleado numero 3 de la lista, usando negative index"
   ]
  },
  {
   "cell_type": "code",
   "execution_count": 16,
   "id": "3a7640a3",
   "metadata": {},
   "outputs": [
    {
     "name": "stdout",
     "output_type": "stream",
     "text": [
      "Ryan\n",
      "['Michel', 'Dwight', 'Jim', 'Pam', 'Ryan', 'Andy', 'Robert', 'Michael', 'Ryan']\n",
      "Dwight\n"
     ]
    }
   ],
   "source": [
    "print(employees[-1])\n",
    "\n",
    "employee_3=employees[-8]\n",
    "\n",
    "print(employees)\n",
    "print(employee_3)\n",
    "\n"
   ]
  },
  {
   "cell_type": "markdown",
   "id": "a48379fc",
   "metadata": {},
   "source": [
    "### Instructions:\n",
    "\n",
    "\n",
    "- Hubo un error con los nombres, cambia el nombre de Michel por Michael, el de Jim por Jimmy, el de Roberto por Roberto."
   ]
  },
  {
   "cell_type": "code",
   "execution_count": 17,
   "id": "9ca54f6a",
   "metadata": {},
   "outputs": [
    {
     "name": "stdout",
     "output_type": "stream",
     "text": [
      "['Michael', 'Dwight', 'Jimmy', 'Pam', 'Ryan', 'Andy', 'Roberto', 'Michael', 'Ryan']\n"
     ]
    }
   ],
   "source": [
    "employees[0]=\"Michael\"\n",
    "\n",
    "employees[2]= \"Jimmy\"\n",
    "\n",
    "employees[-3]= \"Roberto\"\n",
    "\n",
    "print(employees)\n"
   ]
  },
  {
   "cell_type": "markdown",
   "id": "29f31ca0",
   "metadata": {},
   "source": [
    "# QUINTO EJERCICIO: \n",
    "##  --  Shrinking a List: Remove --"
   ]
  },
  {
   "cell_type": "markdown",
   "id": "377077b4",
   "metadata": {},
   "source": [
    "### Intructions:\n",
    "\n",
    "- Usando la lista creada anteriormente de employees, imprime la lista.\n",
    "\n",
    "- Elimina los nombres duplicados usando .remove()\n",
    "\n",
    "- Andy se canso de trabajar para nosotros, decia que mucho lo explotabamos por ser negro, que mas da, eliminalo de la lista.\n",
    "\n",
    "- Vuelve a imprimir la lista final sin los nombres duplicados, y sin el holgazan de Andy."
   ]
  },
  {
   "cell_type": "code",
   "execution_count": 18,
   "id": "af602903",
   "metadata": {},
   "outputs": [
    {
     "name": "stdout",
     "output_type": "stream",
     "text": [
      "['Michael', 'Dwight', 'Jimmy', 'Pam', 'Ryan', 'Andy', 'Roberto', 'Michael', 'Ryan']\n",
      "['Dwight', 'Jimmy', 'Pam', 'Roberto', 'Michael', 'Ryan']\n"
     ]
    }
   ],
   "source": [
    "print(employees)\n",
    "\n",
    "employees.remove(\"Michael\")\n",
    "\n",
    "employees.remove(\"Ryan\")\n",
    "employees.remove(\"Andy\")\n",
    "\n",
    "print(employees)\n"
   ]
  },
  {
   "cell_type": "markdown",
   "id": "b988b88e",
   "metadata": {},
   "source": [
    "# SEXTO EJERCICIO: \n",
    "##  --  Two-Dimensional (2D) Lists --"
   ]
  },
  {
   "cell_type": "markdown",
   "id": "547dde84",
   "metadata": {},
   "source": [
    "### Instructions:\n",
    "\n",
    "- Una nueva estudiante llamada Vicky se unio a la clase, con una altura de 1.69, agregala a la lista heights como una lista aparte con su nombre y altura.\n",
    "\n",
    "- La altura de Sam no es correcta, accede a la lista donde se encuentra Sam, y cambia su altura por 1.60\n",
    "\n",
    "- Crea una variable llamada -- jenny_height -- y asignale la altura de Jenny usando index 2d"
   ]
  },
  {
   "cell_type": "code",
   "execution_count": 26,
   "id": "d221ec4d",
   "metadata": {},
   "outputs": [
    {
     "name": "stdout",
     "output_type": "stream",
     "text": [
      "[['Jenny', 1.61], ['Alexus', 1.7], ['Sam', 1.6], ['Grace', 1.64], [' Vicky', 1.69]]\n",
      "1.61\n"
     ]
    }
   ],
   "source": [
    "heights = [\n",
    "           [\"Jenny\", 1.61], \n",
    "           [\"Alexus\", 1.70], \n",
    "           [\"Sam\", 1.45], \n",
    "           [\"Grace\", 1.64]\n",
    "          ]\n",
    "\n",
    "heights+= [[\" Vicky\",  1.69]]\n",
    "heights[2][1]=1.60\n",
    "jenny_height =heights[0] [1]\n",
    "print(heights)\n",
    "print(jenny_height)\n",
    "\n"
   ]
  },
  {
   "cell_type": "code",
   "execution_count": null,
   "id": "f5ca033c",
   "metadata": {},
   "outputs": [],
   "source": []
  }
 ],
 "metadata": {
  "kernelspec": {
   "display_name": "Python 3 (ipykernel)",
   "language": "python",
   "name": "python3"
  },
  "language_info": {
   "codemirror_mode": {
    "name": "ipython",
    "version": 3
   },
   "file_extension": ".py",
   "mimetype": "text/x-python",
   "name": "python",
   "nbconvert_exporter": "python",
   "pygments_lexer": "ipython3",
   "version": "3.9.12"
  }
 },
 "nbformat": 4,
 "nbformat_minor": 5
}
